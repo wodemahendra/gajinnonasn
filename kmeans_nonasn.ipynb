{
  "nbformat": 4,
  "nbformat_minor": 0,
  "metadata": {
    "colab": {
      "name": "kmeans-nonasn.ipynb",
      "provenance": [],
      "authorship_tag": "ABX9TyOHDNjvYs1FU5Mi/DRak1kH",
      "include_colab_link": true
    },
    "kernelspec": {
      "name": "python3",
      "display_name": "Python 3"
    },
    "language_info": {
      "name": "python"
    }
  },
  "cells": [
    {
      "cell_type": "markdown",
      "metadata": {
        "id": "view-in-github",
        "colab_type": "text"
      },
      "source": [
        "<a href=\"https://colab.research.google.com/github/wodemahendra/gajinnonasn/blob/main/kmeans_nonasn.ipynb\" target=\"_parent\"><img src=\"https://colab.research.google.com/assets/colab-badge.svg\" alt=\"Open In Colab\"/></a>"
      ]
    },
    {
      "cell_type": "code",
      "metadata": {
        "id": "mAvq2cMRWExt"
      },
      "source": [
        "import matplotlib.pyplot as plt\n",
        "import numpy as np\n",
        "import pandas as pd\n",
        "from sklearn.cluster import KMeans"
      ],
      "execution_count": 76,
      "outputs": []
    },
    {
      "cell_type": "code",
      "metadata": {
        "id": "d_n2BVfUXTcq",
        "colab": {
          "base_uri": "https://localhost:8080/"
        },
        "outputId": "80ee2b3e-9e7a-47ea-a880-3c9eeca71ad6"
      },
      "source": [
        "dataset = pd.read_csv('/content/gajinonasn.csv')\n",
        "dataset.keys()\n"
      ],
      "execution_count": 81,
      "outputs": [
        {
          "output_type": "execute_result",
          "data": {
            "text/plain": [
              "Index(['Gaji', 'Tahun'], dtype='object')"
            ]
          },
          "metadata": {
            "tags": []
          },
          "execution_count": 81
        }
      ]
    },
    {
      "cell_type": "code",
      "metadata": {
        "id": "6AJrGX0yXm2h",
        "colab": {
          "base_uri": "https://localhost:8080/",
          "height": 204
        },
        "outputId": "112e4a84-9878-4575-c599-fe760a56e5e1"
      },
      "source": [
        "dataku = pd.DataFrame(dataset)\n",
        "dataku.head()"
      ],
      "execution_count": 82,
      "outputs": [
        {
          "output_type": "execute_result",
          "data": {
            "text/html": [
              "<div>\n",
              "<style scoped>\n",
              "    .dataframe tbody tr th:only-of-type {\n",
              "        vertical-align: middle;\n",
              "    }\n",
              "\n",
              "    .dataframe tbody tr th {\n",
              "        vertical-align: top;\n",
              "    }\n",
              "\n",
              "    .dataframe thead th {\n",
              "        text-align: right;\n",
              "    }\n",
              "</style>\n",
              "<table border=\"1\" class=\"dataframe\">\n",
              "  <thead>\n",
              "    <tr style=\"text-align: right;\">\n",
              "      <th></th>\n",
              "      <th>Gaji</th>\n",
              "      <th>Tahun</th>\n",
              "    </tr>\n",
              "  </thead>\n",
              "  <tbody>\n",
              "    <tr>\n",
              "      <th>0</th>\n",
              "      <td>1800</td>\n",
              "      <td>2015</td>\n",
              "    </tr>\n",
              "    <tr>\n",
              "      <th>1</th>\n",
              "      <td>1900</td>\n",
              "      <td>2016</td>\n",
              "    </tr>\n",
              "    <tr>\n",
              "      <th>2</th>\n",
              "      <td>2100</td>\n",
              "      <td>2017</td>\n",
              "    </tr>\n",
              "    <tr>\n",
              "      <th>3</th>\n",
              "      <td>2200</td>\n",
              "      <td>2018</td>\n",
              "    </tr>\n",
              "    <tr>\n",
              "      <th>4</th>\n",
              "      <td>2300</td>\n",
              "      <td>2019</td>\n",
              "    </tr>\n",
              "  </tbody>\n",
              "</table>\n",
              "</div>"
            ],
            "text/plain": [
              "   Gaji  Tahun\n",
              "0  1800   2015\n",
              "1  1900   2016\n",
              "2  2100   2017\n",
              "3  2200   2018\n",
              "4  2300   2019"
            ]
          },
          "metadata": {
            "tags": []
          },
          "execution_count": 82
        }
      ]
    },
    {
      "cell_type": "code",
      "metadata": {
        "colab": {
          "base_uri": "https://localhost:8080/"
        },
        "id": "BdmcDQNOX6NN",
        "outputId": "a6ff69a7-6c6a-472a-83d0-0edf6f1a3f8e"
      },
      "source": [
        "X = np.array(dataset)\n",
        "print(X)"
      ],
      "execution_count": 83,
      "outputs": [
        {
          "output_type": "stream",
          "text": [
            "[[1800 2015]\n",
            " [1900 2016]\n",
            " [2100 2017]\n",
            " [2200 2018]\n",
            " [2300 2019]\n",
            " [2500  202]\n",
            " [2700 2021]]\n"
          ],
          "name": "stdout"
        }
      ]
    },
    {
      "cell_type": "code",
      "metadata": {
        "colab": {
          "base_uri": "https://localhost:8080/",
          "height": 279
        },
        "id": "fouYKry8YBKb",
        "outputId": "c1beb204-7df7-4173-b52c-d0110b96ad4c"
      },
      "source": [
        "plt.scatter(X[:,0], X[:,0], label='True Position')\n",
        "plt.xlabel(\"Gaji\")\n",
        "plt.ylabel(\"Tahun\")\n",
        "plt.show()"
      ],
      "execution_count": 88,
      "outputs": [
        {
          "output_type": "display_data",
          "data": {
            "image/png": "[encoded data removed]",
            "text/plain": [
              "<Figure size 432x288 with 1 Axes>"
            ]
          },
          "metadata": {
            "tags": [],
            "needs_background": "light"
          }
        }
      ]
    },
    {
      "cell_type": "code",
      "metadata": {
        "id": "jD3BgzpQaAFo",
        "colab": {
          "base_uri": "https://localhost:8080/"
        },
        "outputId": "d45c6d49-ef79-4f91-e045-46e1540a99db"
      },
      "source": [
        "kmeans = KMeans(n_clusters=2)\n",
        "kmeans.fit(X)\n",
        "print(kmeans.cluster_centers_)"
      ],
      "execution_count": 74,
      "outputs": [
        {
          "output_type": "stream",
          "text": [
            "[[4475.   4243.75]\n",
            " [7987.5  8025.  ]]\n"
          ],
          "name": "stdout"
        }
      ]
    },
    {
      "cell_type": "code",
      "metadata": {
        "id": "gET5kPg4aRBl"
      },
      "source": [
        "plt.scatter(X[:,0], X[:,1], c=kmeans.labels_, cmap='rainbow')\n",
        "plt.xlabel(\"Gaji\") \n",
        "plt.ylabel(\"Pengeluaran\")\n",
        "plt.title(\"Grafik Penyebaran Data Konsumen\")\n",
        "plt.show()"
      ],
      "execution_count": null,
      "outputs": []
    },
    {
      "cell_type": "code",
      "metadata": {
        "id": "eG7A8jYDaded"
      },
      "source": [
        "plt.scatter(X[:,0], X[:,1], c=kmeans.labels_, cmap='rainbow')\n",
        "plt.scatter(kmeans.cluster_centers_[:,0], kmeans.cluster_centers_[:,1], color='black')\n",
        "plt.xlabel(\"Gaji\") \n",
        "plt.ylabel(\"Pengeluaran\")\n",
        "plt.title(\"Grafik Penyebaran Data Konsumen\")\n",
        "plt.show()"
      ],
      "execution_count": null,
      "outputs": []
    }
  ]
}